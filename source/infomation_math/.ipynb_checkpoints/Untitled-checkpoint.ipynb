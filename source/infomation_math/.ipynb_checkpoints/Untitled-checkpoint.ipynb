{
 "cells": [
  {
   "cell_type": "code",
   "execution_count": 2,
   "metadata": {},
   "outputs": [
    {
     "name": "stdout",
     "output_type": "stream",
     "text": [
      "The Cython extension is already loaded. To reload it, use:\n",
      "  %reload_ext Cython\n"
     ]
    }
   ],
   "source": [
    "%load_ext Cython\n",
    "import csv"
   ]
  },
  {
   "cell_type": "code",
   "execution_count": 13,
   "metadata": {},
   "outputs": [
    {
     "name": "stderr",
     "output_type": "stream",
     "text": [
      "\n",
      "Error compiling Cython file:\n",
      "------------------------------------------------------------\n",
      "...\n",
      "def solve(int[] data):\n",
      "    while(1):\n",
      "        data.sort(reverse=True)\n",
      "           ^\n",
      "------------------------------------------------------------\n",
      "\n",
      "C:\\Users\\M1Zu7\\.ipython\\cython\\_cython_magic_7e23c8d2e26d00d414fefe2ffde76b5c.pyx:3:12: Cannot convert 'int *' to Python object\n",
      "\n",
      "Error compiling Cython file:\n",
      "------------------------------------------------------------\n",
      "...\n",
      "def solve(int[] data):\n",
      "    while(1):\n",
      "        data.sort(reverse=True)\n",
      "        S = data.pop(0)\n",
      "               ^\n",
      "------------------------------------------------------------\n",
      "\n",
      "C:\\Users\\M1Zu7\\.ipython\\cython\\_cython_magic_7e23c8d2e26d00d414fefe2ffde76b5c.pyx:4:16: Cannot convert 'int *' to Python object\n",
      "\n",
      "Error compiling Cython file:\n",
      "------------------------------------------------------------\n",
      "...\n",
      "        try:\n",
      "            for i in range(S):\n",
      "                data[i] -= 1\n",
      "        except:\n",
      "            return False\n",
      "        if any(filter(lambda x: x < 0, data)):\n",
      "                                          ^\n",
      "------------------------------------------------------------\n",
      "\n",
      "C:\\Users\\M1Zu7\\.ipython\\cython\\_cython_magic_7e23c8d2e26d00d414fefe2ffde76b5c.pyx:10:43: Cannot convert 'int *' to Python object\n",
      "\n",
      "Error compiling Cython file:\n",
      "------------------------------------------------------------\n",
      "...\n",
      "                data[i] -= 1\n",
      "        except:\n",
      "            return False\n",
      "        if any(filter(lambda x: x < 0, data)):\n",
      "            return False\n",
      "        if len(data) == 1:\n",
      "                  ^\n",
      "------------------------------------------------------------\n",
      "\n",
      "C:\\Users\\M1Zu7\\.ipython\\cython\\_cython_magic_7e23c8d2e26d00d414fefe2ffde76b5c.pyx:12:19: Cannot convert 'int *' to Python object\n"
     ]
    }
   ],
   "source": [
    "%%cython\n",
    "def solve(data):\n",
    "    while(1):\n",
    "        data.sort(reverse=True)\n",
    "        int S = data.pop(0)\n",
    "        try:\n",
    "            for i in range(S):\n",
    "                data[i] -= 1\n",
    "        except:\n",
    "            return False\n",
    "        if any(filter(lambda x: x < 0, data)):\n",
    "            return False\n",
    "        if len(data) == 1:\n",
    "            return True"
   ]
  },
  {
   "cell_type": "code",
   "execution_count": 4,
   "metadata": {
    "collapsed": true
   },
   "outputs": [],
   "source": [
    "def isNotHands(indata):\n",
    "    return len(list(filter(lambda x:x%2==1,indata))) % 2 == 1 or max(indata) >= (len(indata) + 1)"
   ]
  },
  {
   "cell_type": "code",
   "execution_count": 9,
   "metadata": {
    "collapsed": true
   },
   "outputs": [],
   "source": [
    "def isGraph(path):\n",
    "    try:\n",
    "        with open(path, \"r\", encoding=\"utf-8\", errors=\"\", newline=\"\" ) as csv_file:\n",
    "            f = csv.reader(csv_file,\n",
    "                            delimiter=\",\",\n",
    "                            doublequote=True,\n",
    "                            lineterminator=\"\\n\",\n",
    "                            quotechar='\"',\n",
    "                            skipinitialspace=True\n",
    "                )\n",
    "            while(1):\n",
    "                try:\n",
    "                    indata = [int(x) for x in f.__next__()]\n",
    "                except:\n",
    "                    break\n",
    "                asdfasdf = (\"できない\" if isNotHands(indata) else (\"できる\" if solve(indata) else \"できない\"))\n",
    "    except:\n",
    "        print(\"{} のパスは不正です。\".format(path))"
   ]
  },
  {
   "cell_type": "code",
   "execution_count": 10,
   "metadata": {},
   "outputs": [
    {
     "name": "stdout",
     "output_type": "stream",
     "text": [
      "205 µs ± 678 ns per loop (mean ± std. dev. of 7 runs, 1000 loops each)\n"
     ]
    }
   ],
   "source": [
    "%timeit isGraph(\"input.csv\")"
   ]
  },
  {
   "cell_type": "code",
   "execution_count": 12,
   "metadata": {},
   "outputs": [
    {
     "name": "stdout",
     "output_type": "stream",
     "text": [
      "172 µs ± 656 ns per loop (mean ± std. dev. of 7 runs, 10000 loops each)\n"
     ]
    }
   ],
   "source": [
    "%timeit isGraph(\"input.csv\")"
   ]
  }
 ],
 "metadata": {
  "kernelspec": {
   "display_name": "Python 3",
   "language": "python",
   "name": "python3"
  },
  "language_info": {
   "codemirror_mode": {
    "name": "ipython",
    "version": 3
   },
   "file_extension": ".py",
   "mimetype": "text/x-python",
   "name": "python",
   "nbconvert_exporter": "python",
   "pygments_lexer": "ipython3",
   "version": "3.6.3"
  }
 },
 "nbformat": 4,
 "nbformat_minor": 2
}
