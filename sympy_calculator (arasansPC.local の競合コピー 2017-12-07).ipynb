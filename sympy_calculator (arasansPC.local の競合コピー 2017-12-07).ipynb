{
 "cells": [
  {
   "cell_type": "code",
   "execution_count": 39,
   "metadata": {
    "collapsed": true
   },
   "outputs": [],
   "source": [
    "from sympy import *\n",
    "R,r1,r2,r3,r4,r5,E = symbols('R R1 R2 R3 R4 R5 E')\n",
    "init_printing()"
   ]
  },
  {
   "cell_type": "code",
   "execution_count": 24,
   "metadata": {
    "collapsed": true
   },
   "outputs": [],
   "source": [
    "A = Matrix(([0,(r2+r5),r5],[r1,-(r1+r2),r3],[r4,-(r4+r5),-(r3+r4+r5)]))\n",
    "B = Matrix(([E,(r2+r5),r5],[0,-(r1+r2),r3],[0,-(r4+r5),-(r3+r4+r5)]))"
   ]
  },
  {
   "cell_type": "code",
   "execution_count": 25,
   "metadata": {},
   "outputs": [
    {
     "data": {
      "image/png": "[encoded data removed]",
      "text/latex": [
       "$$R_{1} R_{2} R_{3} + R_{1} R_{2} R_{4} + R_{1} R_{2} R_{5} + R_{1} R_{3} R_{5} + R_{1} R_{4} R_{5} + R_{2} R_{3} R_{4} + R_{2} R_{4} R_{5} + R_{3} R_{4} R_{5}$$"
      ],
      "text/plain": [
       "R₁⋅R₂⋅R₃ + R₁⋅R₂⋅R₄ + R₁⋅R₂⋅R₅ + R₁⋅R₃⋅R₅ + R₁⋅R₄⋅R₅ + R₂⋅R₃⋅R₄ + R₂⋅R₄⋅R₅ + R\n",
       "₃⋅R₄⋅R₅"
      ]
     },
     "execution_count": 25,
     "metadata": {},
     "output_type": "execute_result"
    }
   ],
   "source": [
    "A.det()"
   ]
  },
  {
   "cell_type": "code",
   "execution_count": 26,
   "metadata": {},
   "outputs": [
    {
     "data": {
      "image/png": "[encoded data removed]",
      "text/latex": [
       "$$E R_{1} R_{3} + E R_{1} R_{4} + E R_{1} R_{5} + E R_{2} R_{3} + E R_{2} R_{4} + E R_{2} R_{5} + E R_{3} R_{4} + E R_{3} R_{5}$$"
      ],
      "text/plain": [
       "E⋅R₁⋅R₃ + E⋅R₁⋅R₄ + E⋅R₁⋅R₅ + E⋅R₂⋅R₃ + E⋅R₂⋅R₄ + E⋅R₂⋅R₅ + E⋅R₃⋅R₄ + E⋅R₃⋅R₅"
      ]
     },
     "execution_count": 26,
     "metadata": {},
     "output_type": "execute_result"
    }
   ],
   "source": [
    "B.det()"
   ]
  },
  {
   "cell_type": "code",
   "execution_count": 32,
   "metadata": {},
   "outputs": [
    {
     "data": {
      "image/png": "[encoded data removed]",
      "text/latex": [
       "$$\\frac{R_{1} R_{2} R_{3} + R_{1} R_{2} R_{4} + R_{1} R_{2} R_{5} + R_{1} R_{3} R_{5} + R_{1} R_{4} R_{5} + R_{2} R_{3} R_{4} + R_{2} R_{4} R_{5} + R_{3} R_{4} R_{5}}{R_{1} R_{3} + R_{1} R_{4} + R_{1} R_{5} + R_{2} R_{3} + R_{2} R_{4} + R_{2} R_{5} + R_{3} R_{4} + R_{3} R_{5}}$$"
      ],
      "text/plain": [
       "R₁⋅R₂⋅R₃ + R₁⋅R₂⋅R₄ + R₁⋅R₂⋅R₅ + R₁⋅R₃⋅R₅ + R₁⋅R₄⋅R₅ + R₂⋅R₃⋅R₄ + R₂⋅R₄⋅R₅ + R\n",
       "──────────────────────────────────────────────────────────────────────────────\n",
       "            R₁⋅R₃ + R₁⋅R₄ + R₁⋅R₅ + R₂⋅R₃ + R₂⋅R₄ + R₂⋅R₅ + R₃⋅R₄ + R₃⋅R₅     \n",
       "\n",
       "₃⋅R₄⋅R₅\n",
       "───────\n",
       "       "
      ]
     },
     "execution_count": 32,
     "metadata": {},
     "output_type": "execute_result"
    }
   ],
   "source": [
    "I1 = (B.det())/A.det()\n",
    "res = E/I1\n",
    "simplify(E/I1)"
   ]
  },
  {
   "cell_type": "code",
   "execution_count": 37,
   "metadata": {},
   "outputs": [
    {
     "data": {
      "image/png": "[encoded data removed]",
      "text/latex": [
       "$$5.2380695917526226449800629090651$$"
      ],
      "text/plain": [
       "5.2380695917526226449800629090651"
      ]
     },
     "execution_count": 37,
     "metadata": {},
     "output_type": "execute_result"
    }
   ],
   "source": [
    "# res = (r1*r2*r3+r1*r2*r4+r2*r3*r4+r1*r2*r5+r1*r3*r5+r1*r4*r5+r2*r4*r5+r3*r4*r5)/(r1*r3+r2*r3+r1*r4+r2*r4+r3*r4+r1*r5+r2*r5+r3*r5)\n",
    "res.subs([(r1, Float(8.09,32)), (r2, Float(5.61,32)), (r3, Float(1.086,32)),(r4,Float(4.686,32)),(r5,Float(3.268,32))])"
   ]
  },
  {
   "cell_type": "code",
   "execution_count": 40,
   "metadata": {},
   "outputs": [
    {
     "data": {
      "image/png": "[encoded data removed]",
      "text/latex": [
       "$$R$$"
      ],
      "text/plain": [
       "R"
      ]
     },
     "execution_count": 40,
     "metadata": {},
     "output_type": "execute_result"
    }
   ],
   "source": [
    "res.subs([(r1, R), (r2, R), (r3, R),(r4, R),(r5, R)])"
   ]
  },
  {
   "cell_type": "code",
   "execution_count": 41,
   "metadata": {},
   "outputs": [
    {
     "data": {
      "image/png": "[encoded data removed]",
      "text/latex": [
       "$$166.66666666666666$$"
      ],
      "text/plain": [
       "166.66666666666666"
      ]
     },
     "execution_count": 41,
     "metadata": {},
     "output_type": "execute_result"
    }
   ],
   "source": [
    "5*200/6"
   ]
  },
  {
   "cell_type": "code",
   "execution_count": 43,
   "metadata": {},
   "outputs": [
    {
     "data": {
      "image/png": "[encoded data removed]",
      "text/latex": [
       "$$67.5$$"
      ],
      "text/plain": [
       "67.5"
      ]
     },
     "execution_count": 43,
     "metadata": {},
     "output_type": "execute_result"
    }
   ],
   "source": [
    "(30+30+30+45)/2"
   ]
  },
  {
   "cell_type": "code",
   "execution_count": 44,
   "metadata": {},
   "outputs": [
    {
     "data": {
      "image/png": "[encoded data removed]",
      "text/latex": [
       "$$60.45$$"
      ],
      "text/plain": [
       "60.45"
      ]
     },
     "execution_count": 44,
     "metadata": {},
     "output_type": "execute_result"
    }
   ],
   "source": [
    "(7+39+48+77+74+67.5+75+48+73+96)/10"
   ]
  }
 ],
 "metadata": {
  "kernelspec": {
   "display_name": "Python 3",
   "language": "python",
   "name": "python3"
  },
  "language_info": {
   "codemirror_mode": {
    "name": "ipython",
    "version": 3
   },
   "file_extension": ".py",
   "mimetype": "text/x-python",
   "name": "python",
   "nbconvert_exporter": "python",
   "pygments_lexer": "ipython3",
   "version": "3.6.1"
  }
 },
 "nbformat": 4,
 "nbformat_minor": 2
}
