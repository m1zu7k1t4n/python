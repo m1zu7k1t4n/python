{
 "cells": [
  {
   "cell_type": "code",
   "execution_count": 18,
   "metadata": {
    "collapsed": true
   },
   "outputs": [],
   "source": [
    "from sympy import *\n",
    "x,y = symbols('x y')\n",
    "a,b,c,v,T = symbols('a b c v T')\n",
    "m,k = symbols('m k')\n",
    "R,r1,r2,r3,r4,r5,E = symbols('R R1 R2 R3 R4 R5 E')\n",
    "vin1,vin2,vout = symbols('Vin① Vin② Vout')\n",
    "alpha = symbols('α')\n",
    "r,P,n = symbols('r P n')\n",
    "Pi = S.Pi # 円周率\n",
    "E = S.Exp1 # 自然対数の底\n",
    "I = S.ImaginaryUnit # 虚数単位\n",
    "init_printing()"
   ]
  },
  {
   "cell_type": "code",
   "execution_count": 2,
   "metadata": {
    "collapsed": true
   },
   "outputs": [],
   "source": [
    "A = Matrix(([0,(r2+r5),r5],[r1,-(r1+r2),r3],[r4,-(r4+r5),-(r3+r4+r5)]))\n",
    "B = Matrix(([E,(r2+r5),r5],[0,-(r1+r2),r3],[0,-(r4+r5),-(r3+r4+r5)]))"
   ]
  },
  {
   "cell_type": "code",
   "execution_count": 3,
   "metadata": {},
   "outputs": [
    {
     "data": {
      "image/png": "[encoded data removed]",
      "text/latex": [
       "$$R_{1} R_{2} R_{3} + R_{1} R_{2} R_{4} + R_{1} R_{2} R_{5} + R_{1} R_{3} R_{5} + R_{1} R_{4} R_{5} + R_{2} R_{3} R_{4} + R_{2} R_{4} R_{5} + R_{3} R_{4} R_{5}$$"
      ],
      "text/plain": [
       "R₁⋅R₂⋅R₃ + R₁⋅R₂⋅R₄ + R₁⋅R₂⋅R₅ + R₁⋅R₃⋅R₅ + R₁⋅R₄⋅R₅ + R₂⋅R₃⋅R₄ + R₂⋅R₄⋅R₅ + R\n",
       "₃⋅R₄⋅R₅"
      ]
     },
     "execution_count": 3,
     "metadata": {},
     "output_type": "execute_result"
    }
   ],
   "source": [
    "A.det()"
   ]
  },
  {
   "cell_type": "code",
   "execution_count": 4,
   "metadata": {},
   "outputs": [
    {
     "data": {
      "image/png": "[encoded data removed]",
      "text/latex": [
       "$$e R_{1} R_{3} + e R_{1} R_{4} + e R_{1} R_{5} + e R_{2} R_{3} + e R_{2} R_{4} + e R_{2} R_{5} + e R_{3} R_{4} + e R_{3} R_{5}$$"
      ],
      "text/plain": [
       "ℯ⋅R₁⋅R₃ + ℯ⋅R₁⋅R₄ + ℯ⋅R₁⋅R₅ + ℯ⋅R₂⋅R₃ + ℯ⋅R₂⋅R₄ + ℯ⋅R₂⋅R₅ + ℯ⋅R₃⋅R₄ + ℯ⋅R₃⋅R₅"
      ]
     },
     "execution_count": 4,
     "metadata": {},
     "output_type": "execute_result"
    }
   ],
   "source": [
    "B.det()"
   ]
  },
  {
   "cell_type": "code",
   "execution_count": 5,
   "metadata": {},
   "outputs": [
    {
     "data": {
      "image/png": "[encoded data removed]",
      "text/latex": [
       "$$\\frac{R_{1} R_{2} R_{3} + R_{1} R_{2} R_{4} + R_{1} R_{2} R_{5} + R_{1} R_{3} R_{5} + R_{1} R_{4} R_{5} + R_{2} R_{3} R_{4} + R_{2} R_{4} R_{5} + R_{3} R_{4} R_{5}}{R_{1} R_{3} + R_{1} R_{4} + R_{1} R_{5} + R_{2} R_{3} + R_{2} R_{4} + R_{2} R_{5} + R_{3} R_{4} + R_{3} R_{5}}$$"
      ],
      "text/plain": [
       "R₁⋅R₂⋅R₃ + R₁⋅R₂⋅R₄ + R₁⋅R₂⋅R₅ + R₁⋅R₃⋅R₅ + R₁⋅R₄⋅R₅ + R₂⋅R₃⋅R₄ + R₂⋅R₄⋅R₅ + R\n",
       "──────────────────────────────────────────────────────────────────────────────\n",
       "            R₁⋅R₃ + R₁⋅R₄ + R₁⋅R₅ + R₂⋅R₃ + R₂⋅R₄ + R₂⋅R₅ + R₃⋅R₄ + R₃⋅R₅     \n",
       "\n",
       "₃⋅R₄⋅R₅\n",
       "───────\n",
       "       "
      ]
     },
     "execution_count": 5,
     "metadata": {},
     "output_type": "execute_result"
    }
   ],
   "source": [
    "I1 = (B.det())/A.det()\n",
    "res = E/I1\n",
    "simplify(E/I1)"
   ]
  },
  {
   "cell_type": "code",
   "execution_count": 6,
   "metadata": {},
   "outputs": [
    {
     "data": {
      "image/png": "[encoded data removed]",
      "text/latex": [
       "$$5.2380695917526226449800629090651$$"
      ],
      "text/plain": [
       "5.2380695917526226449800629090651"
      ]
     },
     "execution_count": 6,
     "metadata": {},
     "output_type": "execute_result"
    }
   ],
   "source": [
    "# res = (r1*r2*r3+r1*r2*r4+r2*r3*r4+r1*r2*r5+r1*r3*r5+r1*r4*r5+r2*r4*r5+r3*r4*r5)/(r1*r3+r2*r3+r1*r4+r2*r4+r3*r4+r1*r5+r2*r5+r3*r5)\n",
    "res.subs([(r1, Float(8.09,32)), (r2, Float(5.61,32)), (r3, Float(1.086,32)),(r4,Float(4.686,32)),(r5,Float(3.268,32))])"
   ]
  },
  {
   "cell_type": "code",
   "execution_count": 7,
   "metadata": {},
   "outputs": [
    {
     "data": {
      "image/png": "[encoded data removed]",
      "text/latex": [
       "$$R$$"
      ],
      "text/plain": [
       "R"
      ]
     },
     "execution_count": 7,
     "metadata": {},
     "output_type": "execute_result"
    }
   ],
   "source": [
    "res.subs([(r1, R), (r2, R), (r3, R),(r4, R),(r5, R)])"
   ]
  },
  {
   "cell_type": "code",
   "execution_count": 8,
   "metadata": {},
   "outputs": [
    {
     "data": {
      "image/png": "[encoded data removed]",
      "text/latex": [
       "$$166.66666666666666$$"
      ],
      "text/plain": [
       "166.66666666666666"
      ]
     },
     "execution_count": 8,
     "metadata": {},
     "output_type": "execute_result"
    }
   ],
   "source": [
    "5*200/6"
   ]
  },
  {
   "cell_type": "code",
   "execution_count": 9,
   "metadata": {},
   "outputs": [
    {
     "data": {
      "image/png": "[encoded data removed]",
      "text/latex": [
       "$$67.5$$"
      ],
      "text/plain": [
       "67.5"
      ]
     },
     "execution_count": 9,
     "metadata": {},
     "output_type": "execute_result"
    }
   ],
   "source": [
    "(30+30+30+45)/2"
   ]
  },
  {
   "cell_type": "code",
   "execution_count": 10,
   "metadata": {},
   "outputs": [
    {
     "data": {
      "image/png": "[encoded data removed]",
      "text/latex": [
       "$$63.708333333333336$$"
      ],
      "text/plain": [
       "63.708333333333336"
      ]
     },
     "execution_count": 10,
     "metadata": {},
     "output_type": "execute_result"
    }
   ],
   "source": [
    "(7+39+48+77+74+67.5+75+48+73+96+75+85)/12"
   ]
  },
  {
   "cell_type": "code",
   "execution_count": 11,
   "metadata": {},
   "outputs": [
    {
     "data": {
      "image/png": "[encoded data removed]",
      "text/latex": [
       "$$- x^{3} y - \\frac{x^{2} y^{2}}{2} + \\frac{x y^{3}}{3} + \\frac{y^{4}}{4}$$"
      ],
      "text/plain": [
       "          2  2      3    4\n",
       "   3     x ⋅y    x⋅y    y \n",
       "- x ⋅y - ───── + ──── + ──\n",
       "           2      3     4 "
      ]
     },
     "execution_count": 11,
     "metadata": {},
     "output_type": "execute_result"
    }
   ],
   "source": [
    "integrate((x+y)**2*(y-x),y)"
   ]
  },
  {
   "cell_type": "code",
   "execution_count": 12,
   "metadata": {},
   "outputs": [
    {
     "data": {
      "image/png": "[encoded data removed]",
      "text/latex": [
       "$$\\left ( y \\geq x^{2}, \\quad y \\leq x + 2\\right )$$"
      ],
      "text/plain": [
       "⎛     2           ⎞\n",
       "⎝y ≥ x , y ≤ x + 2⎠"
      ]
     },
     "execution_count": 12,
     "metadata": {},
     "output_type": "execute_result"
    }
   ],
   "source": [
    "y>=x**2, y<=x+2"
   ]
  },
  {
   "cell_type": "code",
   "execution_count": 13,
   "metadata": {},
   "outputs": [
    {
     "data": {
      "image/png": "[encoded data removed]",
      "text/latex": [
       "$$- \\frac{1}{3} \\sin^{3}{\\left (θ \\right )} + \\sin{\\left (θ \\right )}$$"
      ],
      "text/plain": [
       "     3            \n",
       "  sin (θ)         \n",
       "- ─────── + sin(θ)\n",
       "     3            "
      ]
     },
     "execution_count": 13,
     "metadata": {},
     "output_type": "execute_result"
    }
   ],
   "source": [
    "integrate(cos(m)**3)"
   ]
  },
  {
   "cell_type": "code",
   "execution_count": 14,
   "metadata": {},
   "outputs": [
    {
     "data": {
      "image/png": "[encoded data removed]",
      "text/latex": [
       "$$\\cos^{3}{\\left (θ \\right )}$$"
      ],
      "text/plain": [
       "   3   \n",
       "cos (θ)"
      ]
     },
     "execution_count": 14,
     "metadata": {},
     "output_type": "execute_result"
    }
   ],
   "source": [
    "simplify(cos(m)**3)"
   ]
  },
  {
   "cell_type": "code",
   "execution_count": 15,
   "metadata": {},
   "outputs": [
    {
     "data": {
      "image/png": "[encoded data removed]",
      "text/latex": [
       "$$\\frac{1}{2} \\log{\\left (5 \\right )}$$"
      ],
      "text/plain": [
       "log(5)\n",
       "──────\n",
       "  2   "
      ]
     },
     "execution_count": 15,
     "metadata": {},
     "output_type": "execute_result"
    }
   ],
   "source": [
    "integrate(r/(r**2+1),(r,0,2))"
   ]
  },
  {
   "cell_type": "code",
   "execution_count": 16,
   "metadata": {
    "collapsed": true
   },
   "outputs": [],
   "source": [
    "xb = (x,0,1)\n",
    "yb = (y,-sqrt(x),sqrt(x))\n",
    "S = integrate(integrate(1,yb),xb)\n",
    "xs = integrate(integrate(x,yb),xb)\n",
    "ys = integrate(integrate(y,yb),xb)"
   ]
  },
  {
   "cell_type": "code",
   "execution_count": 17,
   "metadata": {},
   "outputs": [
    {
     "data": {
      "image/png": "[encoded data removed]",
      "text/latex": [
       "$$\\left ( \\frac{3}{5}, \\quad 0\\right )$$"
      ],
      "text/plain": [
       "(3/5, 0)"
      ]
     },
     "execution_count": 17,
     "metadata": {},
     "output_type": "execute_result"
    }
   ],
   "source": [
    "(simplify(xs/S),simplify(ys/S))"
   ]
  },
  {
   "cell_type": "code",
   "execution_count": 18,
   "metadata": {},
   "outputs": [
    {
     "data": {
      "image/png": "[encoded data removed]",
      "text/latex": [
       "$$\\left ( \\frac{4}{3}, \\quad \\frac{4}{5}, \\quad 0\\right )$$"
      ],
      "text/plain": [
       "(4/3, 4/5, 0)"
      ]
     },
     "execution_count": 18,
     "metadata": {},
     "output_type": "execute_result"
    }
   ],
   "source": [
    "S,xs,ys"
   ]
  },
  {
   "cell_type": "code",
   "execution_count": 19,
   "metadata": {},
   "outputs": [
    {
     "data": {
      "image/png": "[encoded data removed]",
      "text/latex": [
       "$$2 \\sqrt{x}$$"
      ],
      "text/plain": [
       "2⋅√x"
      ]
     },
     "execution_count": 19,
     "metadata": {},
     "output_type": "execute_result"
    }
   ],
   "source": [
    "sqrt(x) +sqrt(x)"
   ]
  },
  {
   "cell_type": "code",
   "execution_count": 20,
   "metadata": {},
   "outputs": [
    {
     "data": {
      "image/png": "[encoded data removed]",
      "text/latex": [
       "$$\\frac{4}{3}$$"
      ],
      "text/plain": [
       "4/3"
      ]
     },
     "execution_count": 20,
     "metadata": {},
     "output_type": "execute_result"
    }
   ],
   "source": [
    "integrate(2*sqrt(x),(x,0,1))"
   ]
  },
  {
   "cell_type": "code",
   "execution_count": 21,
   "metadata": {},
   "outputs": [
    {
     "data": {
      "image/png": "[encoded data removed]",
      "text/latex": [
       "$$665$$"
      ],
      "text/plain": [
       "665"
      ]
     },
     "execution_count": 21,
     "metadata": {},
     "output_type": "execute_result"
    }
   ],
   "source": [
    "3**6-2**6"
   ]
  },
  {
   "cell_type": "code",
   "execution_count": 22,
   "metadata": {},
   "outputs": [
    {
     "data": {
      "image/png": "[encoded data removed]",
      "text/latex": [
       "$$16 \\sin^{8}{\\left (θ + \\frac{\\pi}{4} \\right )}$$"
      ],
      "text/plain": [
       "      8⎛    π⎞\n",
       "16⋅sin ⎜θ + ─⎟\n",
       "       ⎝    4⎠"
      ]
     },
     "execution_count": 22,
     "metadata": {},
     "output_type": "execute_result"
    }
   ],
   "source": [
    "simplify((cos(m)+sin(m))**8)"
   ]
  },
  {
   "cell_type": "code",
   "execution_count": 23,
   "metadata": {},
   "outputs": [
    {
     "data": {
      "image/png": "[encoded data removed]",
      "text/latex": [
       "$$256 \\sin^{8}{\\left (θ + \\frac{\\pi}{4} \\right )} \\cos^{8}{\\left (θ + \\frac{\\pi}{4} \\right )}$$"
      ],
      "text/plain": [
       "       8⎛    π⎞    8⎛    π⎞\n",
       "256⋅sin ⎜θ + ─⎟⋅cos ⎜θ + ─⎟\n",
       "        ⎝    4⎠     ⎝    4⎠"
      ]
     },
     "execution_count": 23,
     "metadata": {},
     "output_type": "execute_result"
    }
   ],
   "source": [
    "simplify((cos(m)+sin(m))**8*(cos(m)-sin(m))**8)"
   ]
  },
  {
   "cell_type": "code",
   "execution_count": 24,
   "metadata": {},
   "outputs": [
    {
     "data": {
      "image/png": "[encoded data removed]",
      "text/latex": [
       "$$256 \\sin^{8}{\\left (θ + \\frac{\\pi}{4} \\right )} \\cos^{8}{\\left (θ + \\frac{\\pi}{4} \\right )}$$"
      ],
      "text/plain": [
       "       8⎛    π⎞    8⎛    π⎞\n",
       "256⋅sin ⎜θ + ─⎟⋅cos ⎜θ + ─⎟\n",
       "        ⎝    4⎠     ⎝    4⎠"
      ]
     },
     "execution_count": 24,
     "metadata": {},
     "output_type": "execute_result"
    }
   ],
   "source": [
    "simplify(((cos(m)+sin(m))*(cos(m)-sin(m)))**8)"
   ]
  },
  {
   "cell_type": "code",
   "execution_count": 25,
   "metadata": {},
   "outputs": [
    {
     "data": {
      "image/png": "[encoded data removed]",
      "text/latex": [
       "$$- \\frac{1}{2} \\log{\\left (- \\sin^{2}{\\left (θ \\right )} \\right )}$$"
      ],
      "text/plain": [
       "    ⎛    2   ⎞ \n",
       "-log⎝-sin (θ)⎠ \n",
       "───────────────\n",
       "       2       "
      ]
     },
     "execution_count": 25,
     "metadata": {},
     "output_type": "execute_result"
    }
   ],
   "source": [
    "simplify(integrate(-cot(m)))"
   ]
  },
  {
   "cell_type": "code",
   "execution_count": 26,
   "metadata": {
    "scrolled": true
   },
   "outputs": [
    {
     "data": {
      "image/png": "[encoded data removed]",
      "text/latex": [
       "$$\\frac{1}{2} \\log{\\left (\\sin^{2}{\\left (θ \\right )} - 1 \\right )}$$"
      ],
      "text/plain": [
       "   ⎛   2       ⎞\n",
       "log⎝sin (θ) - 1⎠\n",
       "────────────────\n",
       "       2        "
      ]
     },
     "execution_count": 26,
     "metadata": {},
     "output_type": "execute_result"
    }
   ],
   "source": [
    "integrate(-tan(m))"
   ]
  },
  {
   "cell_type": "code",
   "execution_count": 27,
   "metadata": {},
   "outputs": [
    {
     "data": {
      "image/png": "[encoded data removed]",
      "text/latex": [
       "$$\\frac{\\pi}{2}$$"
      ],
      "text/plain": [
       "π\n",
       "─\n",
       "2"
      ]
     },
     "execution_count": 27,
     "metadata": {},
     "output_type": "execute_result"
    }
   ],
   "source": [
    "asin(1)"
   ]
  },
  {
   "cell_type": "code",
   "execution_count": 27,
   "metadata": {},
   "outputs": [
    {
     "data": {
      "image/png": "[encoded data removed]",
      "text/latex": [
       "$$v^{3} e^{- \\frac{m v^{2}}{2 T k}}$$"
      ],
      "text/plain": [
       "        2 \n",
       "    -m⋅v  \n",
       "    ──────\n",
       " 3  2⋅T⋅k \n",
       "v ⋅ℯ      "
      ]
     },
     "execution_count": 27,
     "metadata": {},
     "output_type": "execute_result"
    }
   ],
   "source": [
    "v**3*exp((-m*v**2)/(2*k*T))"
   ]
  },
  {
   "cell_type": "code",
   "execution_count": 39,
   "metadata": {},
   "outputs": [
    {
     "data": {
      "image/png": "[encoded data removed]",
      "text/latex": [
       "$$\\begin{cases} \\frac{2 T^{2}}{m^{2}} k^{2} & \\text{for}\\: \\left|{\\operatorname{periodic_{argument}}{\\left (\\frac{\\operatorname{polar\\_lift}{\\left (m \\right )}}{\\operatorname{polar\\_lift}{\\left (T \\right )} \\operatorname{polar\\_lift}{\\left (k \\right )}},\\infty \\right )}}\\right| < \\frac{\\pi}{2} \\\\\\int_{0}^{\\infty} v^{3} e^{- \\frac{m v^{2}}{2 T k}}\\, dv & \\text{otherwise} \\end{cases}$$"
      ],
      "text/plain": [
       "⎧       2  2                                                                 \n",
       "⎪    2⋅T ⋅k           │                 ⎛       polar_lift(m)          ⎞│   π\n",
       "⎪    ───────      for │periodic_argument⎜───────────────────────────, ∞⎟│ < ─\n",
       "⎪        2            │                 ⎝polar_lift(T)⋅polar_lift(k)   ⎠│   2\n",
       "⎪       m                                                                    \n",
       "⎪                                                                            \n",
       "⎪∞                                                                           \n",
       "⎨⌠                                                                           \n",
       "⎪⎮         2                                                                 \n",
       "⎪⎮     -m⋅v                                                                  \n",
       "⎪⎮     ──────                                                                \n",
       "⎪⎮  3  2⋅T⋅k                                                                 \n",
       "⎪⎮ v ⋅ℯ       dv                           otherwise                         \n",
       "⎪⌡                                                                           \n",
       "⎩0                                                                           "
      ]
     },
     "execution_count": 39,
     "metadata": {},
     "output_type": "execute_result"
    }
   ],
   "source": [
    "integrate(v**3*exp((-m*v**2)/(2*k*T)),(v,0,oo))"
   ]
  },
  {
   "cell_type": "code",
   "execution_count": 41,
   "metadata": {},
   "outputs": [
    {
     "data": {
      "image/png": "[encoded data removed]",
      "text/latex": [
       "$$\\begin{cases} \\frac{\\sqrt{2} \\sqrt{\\pi} T k \\sqrt{\\operatorname{polar\\_lift}{\\left (T \\right )}} \\sqrt{\\operatorname{polar\\_lift}{\\left (k \\right )}}}{2 m \\sqrt{\\operatorname{polar\\_lift}{\\left (m \\right )}}} & \\text{for}\\: \\left|{\\operatorname{periodic_{argument}}{\\left (\\frac{\\operatorname{polar\\_lift}{\\left (m \\right )}}{\\operatorname{polar\\_lift}{\\left (T \\right )} \\operatorname{polar\\_lift}{\\left (k \\right )}},\\infty \\right )}}\\right| < \\frac{\\pi}{2} \\\\\\int_{0}^{\\infty} v^{2} e^{- \\frac{m v^{2}}{2 T k}}\\, dv & \\text{otherwise} \\end{cases}$$"
      ],
      "text/plain": [
       "⎧            _______________   _______________                                \n",
       "⎪√2⋅√π⋅T⋅k⋅╲╱ polar_lift(T) ⋅╲╱ polar_lift(k)       │                 ⎛       \n",
       "⎪─────────────────────────────────────────────  for │periodic_argument⎜───────\n",
       "⎪                  _______________                  │                 ⎝polar_l\n",
       "⎪            2⋅m⋅╲╱ polar_lift(m)                                             \n",
       "⎪                                                                             \n",
       "⎪               ∞                                                             \n",
       "⎨               ⌠                                                             \n",
       "⎪               ⎮         2                                                   \n",
       "⎪               ⎮     -m⋅v                                                    \n",
       "⎪               ⎮     ──────                                                  \n",
       "⎪               ⎮  2  2⋅T⋅k                                                   \n",
       "⎪               ⎮ v ⋅ℯ       dv                                          other\n",
       "⎪               ⌡                                                             \n",
       "⎩               0                                                             \n",
       "\n",
       "                             \n",
       "polar_lift(m)          ⎞│   π\n",
       "────────────────────, ∞⎟│ < ─\n",
       "ift(T)⋅polar_lift(k)   ⎠│   2\n",
       "                             \n",
       "                             \n",
       "                             \n",
       "                             \n",
       "                             \n",
       "                             \n",
       "                             \n",
       "                             \n",
       "wise                         \n",
       "                             \n",
       "                             "
      ]
     },
     "execution_count": 41,
     "metadata": {},
     "output_type": "execute_result"
    }
   ],
   "source": [
    "integrate(v**2*exp((-m*v**2)/(2*k*T)),(v,0,oo))"
   ]
  },
  {
   "cell_type": "code",
   "execution_count": 38,
   "metadata": {},
   "outputs": [
    {
     "data": {
      "image/png": "[encoded data removed]",
      "text/latex": [
       "$$\\left(\\begin{cases} \\frac{3}{v^{3}} & \\text{for}\\: m = 0 \\\\\\frac{1}{- \\frac{T k}{m} v e^{- \\frac{m v^{2}}{2 T k}} + \\frac{\\sqrt{2} \\sqrt{\\pi} T k}{2 m^{\\frac{3}{2}} \\sqrt{\\frac{1}{T}} \\sqrt{\\frac{1}{k}}} \\operatorname{erf}{\\left (\\frac{\\sqrt{2} v}{2} \\sqrt{m} \\sqrt{\\frac{1}{T}} \\sqrt{\\frac{1}{k}} \\right )}} & \\text{otherwise} \\end{cases}\\right) \\left(\\begin{cases} \\frac{v^{4}}{4} & \\text{for}\\: m^{3} = 0 \\\\\\frac{1}{m^{3}} \\left(- 2 T^{2} k^{2} m - T k m^{2} v^{2}\\right) e^{- \\frac{m v^{2}}{2 T k}} & \\text{otherwise} \\end{cases}\\right)$$"
      ],
      "text/plain": [
       "⎛⎧                           3                                       ⎞        \n",
       "⎜⎪                           ──                             for m = 0⎟        \n",
       "⎜⎪                            3                                      ⎟        \n",
       "⎜⎪                           v                                       ⎟ ⎛⎧     \n",
       "⎜⎪                                                                   ⎟ ⎜⎪     \n",
       "⎜⎪                           1                                       ⎟ ⎜⎪     \n",
       "⎜⎪────────────────────────────────────────────────────────  otherwise⎟ ⎜⎪     \n",
       "⎜⎪                               ⎛            ___     ___⎞           ⎟ ⎜⎪     \n",
       "⎜⎪             2                 ⎜           ╱ 1     ╱ 1 ⎟           ⎟ ⎜⎪     \n",
       "⎜⎨         -m⋅v                  ⎜√2⋅√m⋅v⋅  ╱  ─ ⋅  ╱  ─ ⎟           ⎟⋅⎜⎨     \n",
       "⎜⎪         ──────                ⎜        ╲╱   T  ╲╱   k ⎟           ⎟ ⎜⎪     \n",
       "⎜⎪         2⋅T⋅k    √2⋅√π⋅T⋅k⋅erf⎜───────────────────────⎟           ⎟ ⎜⎪⎛    \n",
       "⎜⎪  T⋅k⋅v⋅ℯ                      ⎝           2           ⎠           ⎟ ⎜⎪⎝- 2⋅\n",
       "⎜⎪- ───────────── + ──────────────────────────────────────           ⎟ ⎜⎪─────\n",
       "⎜⎪        m                            ___     ___                   ⎟ ⎜⎪     \n",
       "⎜⎪                             3/2    ╱ 1     ╱ 1                    ⎟ ⎝⎩     \n",
       "⎜⎪                          2⋅m   ⋅  ╱  ─ ⋅  ╱  ─                    ⎟        \n",
       "⎜⎪                                 ╲╱   T  ╲╱   k                    ⎟        \n",
       "⎝⎩                                                                   ⎠        \n",
       "\n",
       "                                         \n",
       "                                         \n",
       "                                         \n",
       "           4                            ⎞\n",
       "          v                        3    ⎟\n",
       "          ──                  for m  = 0⎟\n",
       "          4                             ⎟\n",
       "                                        ⎟\n",
       "                          2             ⎟\n",
       "                      -m⋅v              ⎟\n",
       "                      ──────            ⎟\n",
       " 2  2          2  2⎞  2⋅T⋅k             ⎟\n",
       "T ⋅k ⋅m - T⋅k⋅m ⋅v ⎠⋅ℯ                  ⎟\n",
       "────────────────────────────  otherwise ⎟\n",
       "            3                           ⎟\n",
       "           m                            ⎠\n",
       "                                         \n",
       "                                         \n",
       "                                         "
      ]
     },
     "execution_count": 38,
     "metadata": {},
     "output_type": "execute_result"
    }
   ],
   "source": [
    "integrate(v**3*exp((-m*v**2)/(2*k*T)),(v))/integrate(v**2*exp((-m*v**2)/(2*k*T)),(v))"
   ]
  },
  {
   "cell_type": "code",
   "execution_count": null,
   "metadata": {
    "collapsed": true
   },
   "outputs": [],
   "source": [
    "polar_lift()"
   ]
  }
 ],
 "metadata": {
  "kernelspec": {
   "display_name": "Python 3",
   "language": "python",
   "name": "python3"
  },
  "language_info": {
   "codemirror_mode": {
    "name": "ipython",
    "version": 3
   },
   "file_extension": ".py",
   "mimetype": "text/x-python",
   "name": "python",
   "nbconvert_exporter": "python",
   "pygments_lexer": "ipython3",
   "version": "3.6.3"
  }
 },
 "nbformat": 4,
 "nbformat_minor": 2
}
