{
 "cells": [
  {
   "cell_type": "code",
   "execution_count": 11,
   "metadata": {},
   "outputs": [
    {
     "ename": "SyntaxError",
     "evalue": "invalid syntax (<ipython-input-11-4fdb8e8e3cf4>, line 5)",
     "output_type": "error",
     "traceback": [
      "\u001b[1;36m  File \u001b[1;32m\"<ipython-input-11-4fdb8e8e3cf4>\"\u001b[1;36m, line \u001b[1;32m5\u001b[0m\n\u001b[1;33m    cimport numpy as np\u001b[0m\n\u001b[1;37m                ^\u001b[0m\n\u001b[1;31mSyntaxError\u001b[0m\u001b[1;31m:\u001b[0m invalid syntax\n"
     ]
    }
   ],
   "source": [
    "%load_ext Cython\n",
    "from PIL import Image\n",
    "import numpy as np\n",
    "from numba import jit"
   ]
  },
  {
   "cell_type": "code",
   "execution_count": 2,
   "metadata": {
    "collapsed": true
   },
   "outputs": [],
   "source": [
    "def PowerImage(img):\n",
    "#         オリジナル画像の幅と高さを取得\n",
    "    width, height = img.size\n",
    "    \n",
    "#     オリジナル画像と同じサイズのImageオブジェクトを作成する\n",
    "    pimg = Image.new('RGB', (width, height))\n",
    "    \n",
    "#     オリジナル画像と同じサイズの配列、Imageオブジェクトを作成\n",
    "    img_pixels = [[img.getpixel((x,y)) for x in range(width)] for y in range(height)]\n",
    "    \n",
    "#     処理部分\n",
    "    power_pixels = PowerImageCul(img_pixels,width,height)\n",
    "    \n",
    "#         書き込み\n",
    "    pmax = np.array(power_pixels).max()\n",
    "    bias = 255/pmax\n",
    "    for y in range(height):\n",
    "        for x in range(width):\n",
    "            p = power_pixels[y][x] * bias\n",
    "            p = 255-int(p)\n",
    "            pimg.putpixel((x,y), (p,p,p))\n",
    "    return pimg"
   ]
  },
  {
   "cell_type": "code",
   "execution_count": 7,
   "metadata": {},
   "outputs": [],
   "source": [
    "%%cython\n",
    "def PowerImageCul(img_pixels,int width, int height):\n",
    "    gray_pixels = [[1 for x in range(width)] for y in range(height)]\n",
    "    power_pixels = [[1 for x in range(width)] for y in range(height)]\n",
    "    \n",
    "#     グレースケール配列を作成\n",
    "    for y in range(height):\n",
    "        for x in range(width):\n",
    "            r,g,b = img_pixels[y][x]\n",
    "            m = ( 0.298912 * r + 0.586611 * g + 0.114478 * b )\n",
    "            m = int(m)\n",
    "            gray_pixels[y][x] = m\n",
    "            \n",
    "#     周りとの差を比較した配列を作成\n",
    "    for y in range(height):\n",
    "        for x in range(width):\n",
    "            target_pixel = gray_pixels[y][x]\n",
    "            power = 0\n",
    "            for yd,xd in zip([0,1,0,-1],[1,0,-1,0]):\n",
    "                    try:\n",
    "                        power += abs(gray_pixels[y+yd][x+xd] - target_pixel)/4\n",
    "                    except:\n",
    "                        pass\n",
    "            power_pixels[y][x] = power\n",
    "    return power_pixels"
   ]
  },
  {
   "cell_type": "code",
   "execution_count": 8,
   "metadata": {
    "scrolled": false
   },
   "outputs": [
    {
     "name": "stdout",
     "output_type": "stream",
     "text": [
      "2.39 s ± 20.2 ms per loop (mean ± std. dev. of 7 runs, 1 loop each)\n"
     ]
    }
   ],
   "source": [
    "# 元となる画像の読み込み\n",
    "img = Image.open('huu.jpg')\n",
    "\n",
    "%timeit PowerImage(img)"
   ]
  },
  {
   "cell_type": "code",
   "execution_count": null,
   "metadata": {
    "collapsed": true
   },
   "outputs": [],
   "source": []
  }
 ],
 "metadata": {
  "kernelspec": {
   "display_name": "Python 3",
   "language": "python",
   "name": "python3"
  },
  "language_info": {
   "codemirror_mode": {
    "name": "ipython",
    "version": 3
   },
   "file_extension": ".py",
   "mimetype": "text/x-python",
   "name": "python",
   "nbconvert_exporter": "python",
   "pygments_lexer": "ipython3",
   "version": "3.6.3"
  }
 },
 "nbformat": 4,
 "nbformat_minor": 2
}
