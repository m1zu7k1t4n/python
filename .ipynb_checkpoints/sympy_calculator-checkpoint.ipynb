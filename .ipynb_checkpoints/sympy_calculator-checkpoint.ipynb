{
 "cells": [
  {
   "cell_type": "code",
   "execution_count": 76,
   "metadata": {
    "collapsed": true
   },
   "outputs": [],
   "source": [
    "from sympy import *\n",
    "x,y = symbols('x y')\n",
    "m = symbols('θ')\n",
    "R,r1,r2,r3,r4,r5,E = symbols('R R1 R2 R3 R4 R5 E')\n",
    "r = symbols('r')\n",
    "s = symbols('スタバ')\n",
    "Pi = S.Pi # 円周率\n",
    "E = S.Exp1 # 自然対数の底\n",
    "I = S.ImaginaryUnit # 虚数単位\n",
    "init_printing()"
   ]
  },
  {
   "cell_type": "code",
   "execution_count": 3,
   "metadata": {
    "collapsed": true
   },
   "outputs": [],
   "source": [
    "A = Matrix(([0,(r2+r5),r5],[r1,-(r1+r2),r3],[r4,-(r4+r5),-(r3+r4+r5)]))\n",
    "B = Matrix(([E,(r2+r5),r5],[0,-(r1+r2),r3],[0,-(r4+r5),-(r3+r4+r5)]))"
   ]
  },
  {
   "cell_type": "code",
   "execution_count": 4,
   "metadata": {},
   "outputs": [
    {
     "data": {
      "image/png": "[encoded data removed]",
      "text/latex": [
       "$$R_{1} R_{5} \\left(- R_{4} - R_{5}\\right) - R_{1} \\left(R_{2} + R_{5}\\right) \\left(- R_{3} - R_{4} - R_{5}\\right) + R_{3} R_{4} \\left(R_{2} + R_{5}\\right) - R_{4} R_{5} \\left(- R_{1} - R_{2}\\right)$$"
      ],
      "text/plain": [
       "R₁⋅R₅⋅(-R₄ - R₅) - R₁⋅(R₂ + R₅)⋅(-R₃ - R₄ - R₅) + R₃⋅R₄⋅(R₂ + R₅) - R₄⋅R₅⋅(-R₁\n",
       " - R₂)"
      ]
     },
     "execution_count": 4,
     "metadata": {},
     "output_type": "execute_result"
    }
   ],
   "source": [
    "A.det()"
   ]
  },
  {
   "cell_type": "code",
   "execution_count": 5,
   "metadata": {},
   "outputs": [
    {
     "data": {
      "image/png": "[encoded data removed]",
      "text/latex": [
       "$$- E R_{3} \\left(- R_{4} - R_{5}\\right) + E \\left(- R_{1} - R_{2}\\right) \\left(- R_{3} - R_{4} - R_{5}\\right)$$"
      ],
      "text/plain": [
       "-E⋅R₃⋅(-R₄ - R₅) + E⋅(-R₁ - R₂)⋅(-R₃ - R₄ - R₅)"
      ]
     },
     "execution_count": 5,
     "metadata": {},
     "output_type": "execute_result"
    }
   ],
   "source": [
    "B.det()"
   ]
  },
  {
   "cell_type": "code",
   "execution_count": 6,
   "metadata": {},
   "outputs": [
    {
     "data": {
      "image/png": "[encoded data removed]",
      "text/latex": [
       "$$\\frac{1}{R_{3} \\left(R_{4} + R_{5}\\right) + \\left(R_{1} + R_{2}\\right) \\left(R_{3} + R_{4} + R_{5}\\right)} \\left(- R_{1} R_{5} \\left(R_{4} + R_{5}\\right) + R_{1} \\left(R_{2} + R_{5}\\right) \\left(R_{3} + R_{4} + R_{5}\\right) + R_{3} R_{4} \\left(R_{2} + R_{5}\\right) + R_{4} R_{5} \\left(R_{1} + R_{2}\\right)\\right)$$"
      ],
      "text/plain": [
       "-R₁⋅R₅⋅(R₄ + R₅) + R₁⋅(R₂ + R₅)⋅(R₃ + R₄ + R₅) + R₃⋅R₄⋅(R₂ + R₅) + R₄⋅R₅⋅(R₁ +\n",
       "──────────────────────────────────────────────────────────────────────────────\n",
       "                     R₃⋅(R₄ + R₅) + (R₁ + R₂)⋅(R₃ + R₄ + R₅)                  \n",
       "\n",
       " R₂)\n",
       "────\n",
       "    "
      ]
     },
     "execution_count": 6,
     "metadata": {},
     "output_type": "execute_result"
    }
   ],
   "source": [
    "I1 = (B.det())/A.det()\n",
    "res = E/I1\n",
    "simplify(E/I1)"
   ]
  },
  {
   "cell_type": "code",
   "execution_count": 7,
   "metadata": {},
   "outputs": [
    {
     "data": {
      "image/png": "[encoded data removed]",
      "text/latex": [
       "$$5.2380695917526226449800629090651$$"
      ],
      "text/plain": [
       "5.2380695917526226449800629090651"
      ]
     },
     "execution_count": 7,
     "metadata": {},
     "output_type": "execute_result"
    }
   ],
   "source": [
    "# res = (r1*r2*r3+r1*r2*r4+r2*r3*r4+r1*r2*r5+r1*r3*r5+r1*r4*r5+r2*r4*r5+r3*r4*r5)/(r1*r3+r2*r3+r1*r4+r2*r4+r3*r4+r1*r5+r2*r5+r3*r5)\n",
    "res.subs([(r1, Float(8.09,32)), (r2, Float(5.61,32)), (r3, Float(1.086,32)),(r4,Float(4.686,32)),(r5,Float(3.268,32))])"
   ]
  },
  {
   "cell_type": "code",
   "execution_count": 8,
   "metadata": {},
   "outputs": [
    {
     "data": {
      "image/png": "[encoded data removed]",
      "text/latex": [
       "$$R$$"
      ],
      "text/plain": [
       "R"
      ]
     },
     "execution_count": 8,
     "metadata": {},
     "output_type": "execute_result"
    }
   ],
   "source": [
    "res.subs([(r1, R), (r2, R), (r3, R),(r4, R),(r5, R)])"
   ]
  },
  {
   "cell_type": "code",
   "execution_count": 9,
   "metadata": {},
   "outputs": [
    {
     "data": {
      "image/png": "[encoded data removed]",
      "text/latex": [
       "$$166.66666666666666$$"
      ],
      "text/plain": [
       "166.66666666666666"
      ]
     },
     "execution_count": 9,
     "metadata": {},
     "output_type": "execute_result"
    }
   ],
   "source": [
    "5*200/6"
   ]
  },
  {
   "cell_type": "code",
   "execution_count": 10,
   "metadata": {},
   "outputs": [
    {
     "data": {
      "image/png": "[encoded data removed]",
      "text/latex": [
       "$$67.5$$"
      ],
      "text/plain": [
       "67.5"
      ]
     },
     "execution_count": 10,
     "metadata": {},
     "output_type": "execute_result"
    }
   ],
   "source": [
    "(30+30+30+45)/2"
   ]
  },
  {
   "cell_type": "code",
   "execution_count": 11,
   "metadata": {},
   "outputs": [
    {
     "data": {
      "image/png": "[encoded data removed]",
      "text/latex": [
       "$$63.708333333333336$$"
      ],
      "text/plain": [
       "63.708333333333336"
      ]
     },
     "execution_count": 11,
     "metadata": {},
     "output_type": "execute_result"
    }
   ],
   "source": [
    "(7+39+48+77+74+67.5+75+48+73+96+75+85)/12"
   ]
  },
  {
   "cell_type": "code",
   "execution_count": 12,
   "metadata": {},
   "outputs": [
    {
     "data": {
      "image/png": "[encoded data removed]",
      "text/latex": [
       "$$- x^{3} y - \\frac{x^{2} y^{2}}{2} + \\frac{x y^{3}}{3} + \\frac{y^{4}}{4}$$"
      ],
      "text/plain": [
       "          2  2      3    4\n",
       "   3     x ⋅y    x⋅y    y \n",
       "- x ⋅y - ───── + ──── + ──\n",
       "           2      3     4 "
      ]
     },
     "execution_count": 12,
     "metadata": {},
     "output_type": "execute_result"
    }
   ],
   "source": [
    "integrate((x+y)**2*(y-x),y)"
   ]
  },
  {
   "cell_type": "code",
   "execution_count": 13,
   "metadata": {},
   "outputs": [
    {
     "data": {
      "image/png": "[encoded data removed]",
      "text/latex": [
       "$$\\left ( y \\geq x^{2}, \\quad y \\leq x + 2\\right )$$"
      ],
      "text/plain": [
       "⎛     2           ⎞\n",
       "⎝y ≥ x , y ≤ x + 2⎠"
      ]
     },
     "execution_count": 13,
     "metadata": {},
     "output_type": "execute_result"
    }
   ],
   "source": [
    "y>=x**2, y<=x+2"
   ]
  },
  {
   "cell_type": "code",
   "execution_count": 14,
   "metadata": {},
   "outputs": [
    {
     "data": {
      "image/png": "[encoded data removed]",
      "text/latex": [
       "$$- \\frac{1}{3} \\sin^{3}{\\left (θ \\right )} + \\sin{\\left (θ \\right )}$$"
      ],
      "text/plain": [
       "     3            \n",
       "  sin (θ)         \n",
       "- ─────── + sin(θ)\n",
       "     3            "
      ]
     },
     "execution_count": 14,
     "metadata": {},
     "output_type": "execute_result"
    }
   ],
   "source": [
    "integrate(cos(m)**3)"
   ]
  },
  {
   "cell_type": "code",
   "execution_count": 15,
   "metadata": {},
   "outputs": [
    {
     "data": {
      "image/png": "[encoded data removed]",
      "text/latex": [
       "$$\\cos^{3}{\\left (θ \\right )}$$"
      ],
      "text/plain": [
       "   3   \n",
       "cos (θ)"
      ]
     },
     "execution_count": 15,
     "metadata": {},
     "output_type": "execute_result"
    }
   ],
   "source": [
    "simplify(cos(m)**3)"
   ]
  },
  {
   "cell_type": "code",
   "execution_count": 16,
   "metadata": {},
   "outputs": [
    {
     "data": {
      "image/png": "[encoded data removed]",
      "text/latex": [
       "$$\\frac{1}{2} \\log{\\left (5 \\right )}$$"
      ],
      "text/plain": [
       "log(5)\n",
       "──────\n",
       "  2   "
      ]
     },
     "execution_count": 16,
     "metadata": {},
     "output_type": "execute_result"
    }
   ],
   "source": [
    "integrate(r/(r**2+1),(r,0,2))"
   ]
  },
  {
   "cell_type": "code",
   "execution_count": 27,
   "metadata": {},
   "outputs": [],
   "source": [
    "xb = (x,0,1)\n",
    "yb = (y,-sqrt(x),sqrt(x))\n",
    "S = integrate(integrate(1,yb),xb)\n",
    "xs = integrate(integrate(x,yb),xb)\n",
    "ys = integrate(integrate(y,yb),xb)"
   ]
  },
  {
   "cell_type": "code",
   "execution_count": 28,
   "metadata": {},
   "outputs": [
    {
     "data": {
      "image/png": "[encoded data removed]",
      "text/latex": [
       "$$\\left ( \\frac{3}{5}, \\quad 0\\right )$$"
      ],
      "text/plain": [
       "(3/5, 0)"
      ]
     },
     "execution_count": 28,
     "metadata": {},
     "output_type": "execute_result"
    }
   ],
   "source": [
    "(simplify(xs/S),simplify(ys/S))"
   ]
  },
  {
   "cell_type": "code",
   "execution_count": 29,
   "metadata": {},
   "outputs": [
    {
     "data": {
      "image/png": "[encoded data removed]",
      "text/latex": [
       "$$\\left ( \\frac{4}{3}, \\quad \\frac{4}{5}, \\quad 0\\right )$$"
      ],
      "text/plain": [
       "(4/3, 4/5, 0)"
      ]
     },
     "execution_count": 29,
     "metadata": {},
     "output_type": "execute_result"
    }
   ],
   "source": [
    "S,xs,ys"
   ]
  },
  {
   "cell_type": "code",
   "execution_count": 30,
   "metadata": {},
   "outputs": [
    {
     "data": {
      "image/png": "[encoded data removed]",
      "text/latex": [
       "$$2 \\sqrt{x}$$"
      ],
      "text/plain": [
       "2⋅√x"
      ]
     },
     "execution_count": 30,
     "metadata": {},
     "output_type": "execute_result"
    }
   ],
   "source": [
    "sqrt(x) +sqrt(x)"
   ]
  },
  {
   "cell_type": "code",
   "execution_count": 31,
   "metadata": {},
   "outputs": [
    {
     "data": {
      "image/png": "[encoded data removed]",
      "text/latex": [
       "$$\\frac{4}{3}$$"
      ],
      "text/plain": [
       "4/3"
      ]
     },
     "execution_count": 31,
     "metadata": {},
     "output_type": "execute_result"
    }
   ],
   "source": [
    "integrate(2*sqrt(x),(x,0,1))"
   ]
  },
  {
   "cell_type": "code",
   "execution_count": 34,
   "metadata": {},
   "outputs": [
    {
     "data": {
      "image/png": "[encoded data removed]",
      "text/latex": [
       "$$665$$"
      ],
      "text/plain": [
       "665"
      ]
     },
     "execution_count": 34,
     "metadata": {},
     "output_type": "execute_result"
    }
   ],
   "source": [
    "3**6-2**6"
   ]
  },
  {
   "cell_type": "code",
   "execution_count": 42,
   "metadata": {},
   "outputs": [
    {
     "data": {
      "image/png": "[encoded data removed]",
      "text/latex": [
       "$$16 \\sin^{8}{\\left (θ + \\frac{\\pi}{4} \\right )}$$"
      ],
      "text/plain": [
       "      8⎛    π⎞\n",
       "16⋅sin ⎜θ + ─⎟\n",
       "       ⎝    4⎠"
      ]
     },
     "execution_count": 42,
     "metadata": {},
     "output_type": "execute_result"
    }
   ],
   "source": [
    "simplify((cos(m)+sin(m))**8)"
   ]
  },
  {
   "cell_type": "code",
   "execution_count": 49,
   "metadata": {},
   "outputs": [
    {
     "data": {
      "image/png": "[encoded data removed]",
      "text/latex": [
       "$$256 \\sin^{8}{\\left (θ + \\frac{\\pi}{4} \\right )} \\cos^{8}{\\left (θ + \\frac{\\pi}{4} \\right )}$$"
      ],
      "text/plain": [
       "       8⎛    π⎞    8⎛    π⎞\n",
       "256⋅sin ⎜θ + ─⎟⋅cos ⎜θ + ─⎟\n",
       "        ⎝    4⎠     ⎝    4⎠"
      ]
     },
     "execution_count": 49,
     "metadata": {},
     "output_type": "execute_result"
    }
   ],
   "source": [
    "simplify((cos(m)+sin(m))**8*(cos(m)-sin(m))**8)"
   ]
  },
  {
   "cell_type": "code",
   "execution_count": 50,
   "metadata": {},
   "outputs": [
    {
     "data": {
      "image/png": "[encoded data removed]",
      "text/latex": [
       "$$256 \\sin^{8}{\\left (θ + \\frac{\\pi}{4} \\right )} \\cos^{8}{\\left (θ + \\frac{\\pi}{4} \\right )}$$"
      ],
      "text/plain": [
       "       8⎛    π⎞    8⎛    π⎞\n",
       "256⋅sin ⎜θ + ─⎟⋅cos ⎜θ + ─⎟\n",
       "        ⎝    4⎠     ⎝    4⎠"
      ]
     },
     "execution_count": 50,
     "metadata": {},
     "output_type": "execute_result"
    }
   ],
   "source": [
    "simplify(((cos(m)+sin(m))*(cos(m)-sin(m)))**8)"
   ]
  },
  {
   "cell_type": "code",
   "execution_count": 71,
   "metadata": {},
   "outputs": [
    {
     "data": {
      "image/png": "[encoded data removed]",
      "text/latex": [
       "$$- \\frac{1}{2} \\log{\\left (- \\sin^{2}{\\left (θ \\right )} \\right )}$$"
      ],
      "text/plain": [
       "    ⎛    2   ⎞ \n",
       "-log⎝-sin (θ)⎠ \n",
       "───────────────\n",
       "       2       "
      ]
     },
     "execution_count": 71,
     "metadata": {},
     "output_type": "execute_result"
    }
   ],
   "source": [
    "simplify(integrate(-cot(m)))"
   ]
  },
  {
   "cell_type": "code",
   "execution_count": 66,
   "metadata": {},
   "outputs": [
    {
     "data": {
      "image/png": "[encoded data removed]",
      "text/latex": [
       "$$\\frac{1}{2} \\log{\\left (\\sin^{2}{\\left (θ \\right )} - 1 \\right )}$$"
      ],
      "text/plain": [
       "   ⎛   2       ⎞\n",
       "log⎝sin (θ) - 1⎠\n",
       "────────────────\n",
       "       2        "
      ]
     },
     "execution_count": 66,
     "metadata": {},
     "output_type": "execute_result"
    }
   ],
   "source": [
    "integrate(-tan(m))"
   ]
  },
  {
   "cell_type": "code",
   "execution_count": 74,
   "metadata": {},
   "outputs": [
    {
     "data": {
      "image/png": "[encoded data removed]",
      "text/latex": [
       "$$\\frac{\\pi}{2}$$"
      ],
      "text/plain": [
       "π\n",
       "─\n",
       "2"
      ]
     },
     "execution_count": 74,
     "metadata": {},
     "output_type": "execute_result"
    }
   ],
   "source": [
    "asin(1)"
   ]
  },
  {
   "cell_type": "code",
   "execution_count": 75,
   "metadata": {},
   "outputs": [
    {
     "data": {
      "image/png": "[encoded data removed]",
      "text/latex": [
       "$$\\sin{\\left (θ \\right )}$$"
      ],
      "text/plain": [
       "sin(θ)"
      ]
     },
     "execution_count": 75,
     "metadata": {},
     "output_type": "execute_result"
    }
   ],
   "source": [
    "simplify(integrate(cos(m)))"
   ]
  },
  {
   "cell_type": "code",
   "execution_count": 77,
   "metadata": {
    "collapsed": true
   },
   "outputs": [],
   "source": [
    "star = [\n",
    "    [s,0],\n",
    "    [0,s]\n",
    "]"
   ]
  },
  {
   "cell_type": "code",
   "execution_count": null,
   "metadata": {
    "collapsed": true
   },
   "outputs": [],
   "source": []
  }
 ],
 "metadata": {
  "kernelspec": {
   "display_name": "Python 3",
   "language": "python",
   "name": "python3"
  },
  "language_info": {
   "codemirror_mode": {
    "name": "ipython",
    "version": 3
   },
   "file_extension": ".py",
   "mimetype": "text/x-python",
   "name": "python",
   "nbconvert_exporter": "python",
   "pygments_lexer": "ipython3",
   "version": "3.6.3"
  }
 },
 "nbformat": 4,
 "nbformat_minor": 2
}
