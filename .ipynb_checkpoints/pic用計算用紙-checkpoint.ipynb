{
 "cells": [
  {
   "cell_type": "code",
   "execution_count": 39,
   "metadata": {
    "collapsed": true
   },
   "outputs": [],
   "source": [
    "sound_scale = [round((1/(261.6 * 2**(i/12))),6) for i in range(13)]\n",
    "scale_name = ('C','C#','D','D#','E','F','F#','G','G#','A','A#','B','C↑')"
   ]
  },
  {
   "cell_type": "code",
   "execution_count": 40,
   "metadata": {},
   "outputs": [],
   "source": [
    "sound = list()\n",
    "for d in zip(scale_name,sound_scale):\n",
    "    sound.append(d)\n",
    "sound = dict(sound)"
   ]
  },
  {
   "cell_type": "code",
   "execution_count": 41,
   "metadata": {},
   "outputs": [
    {
     "data": {
      "text/plain": [
       "[0.003823,\n",
       " 0.003608,\n",
       " 0.003406,\n",
       " 0.003214,\n",
       " 0.003034,\n",
       " 0.002864,\n",
       " 0.002703,\n",
       " 0.002551,\n",
       " 0.002408,\n",
       " 0.002273,\n",
       " 0.002145,\n",
       " 0.002025,\n",
       " 0.001911]"
      ]
     },
     "execution_count": 41,
     "metadata": {},
     "output_type": "execute_result"
    }
   ],
   "source": [
    "sound_scale"
   ]
  },
  {
   "cell_type": "code",
   "execution_count": 42,
   "metadata": {},
   "outputs": [
    {
     "data": {
      "text/plain": [
       "{'A': 0.002273,\n",
       " 'A#': 0.002145,\n",
       " 'B': 0.002025,\n",
       " 'C': 0.003823,\n",
       " 'C#': 0.003608,\n",
       " 'C↑': 0.001911,\n",
       " 'D': 0.003406,\n",
       " 'D#': 0.003214,\n",
       " 'E': 0.003034,\n",
       " 'F': 0.002864,\n",
       " 'F#': 0.002703,\n",
       " 'G': 0.002551,\n",
       " 'G#': 0.002408}"
      ]
     },
     "execution_count": 42,
     "metadata": {},
     "output_type": "execute_result"
    }
   ],
   "source": [
    "sound"
   ]
  },
  {
   "cell_type": "code",
   "execution_count": 43,
   "metadata": {
    "collapsed": true
   },
   "outputs": [],
   "source": [
    "def clock_cycle(time):\n",
    "    return time / (0.2*10**-6)"
   ]
  },
  {
   "cell_type": "code",
   "execution_count": 45,
   "metadata": {},
   "outputs": [
    {
     "data": {
      "text/plain": [
       "19115.0"
      ]
     },
     "execution_count": 45,
     "metadata": {},
     "output_type": "execute_result"
    }
   ],
   "source": [
    "clock_cycle(sound['C'])"
   ]
  },
  {
   "cell_type": "code",
   "execution_count": null,
   "metadata": {
    "collapsed": true
   },
   "outputs": [],
   "source": []
  },
  {
   "cell_type": "code",
   "execution_count": null,
   "metadata": {},
   "outputs": [],
   "source": [
    "clockn"
   ]
  }
 ],
 "metadata": {
  "kernelspec": {
   "display_name": "Python 3",
   "language": "python",
   "name": "python3"
  },
  "language_info": {
   "codemirror_mode": {
    "name": "ipython",
    "version": 3
   },
   "file_extension": ".py",
   "mimetype": "text/x-python",
   "name": "python",
   "nbconvert_exporter": "python",
   "pygments_lexer": "ipython3",
   "version": "3.6.5"
  }
 },
 "nbformat": 4,
 "nbformat_minor": 2
}
