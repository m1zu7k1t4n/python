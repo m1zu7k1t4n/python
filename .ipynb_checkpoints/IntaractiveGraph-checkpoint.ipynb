{
 "cells": [
  {
   "cell_type": "markdown",
   "metadata": {},
   "source": [
    "# 便利な可視化グラフ\n",
    "\n",
    "## 参考サイト\n",
    "\n",
    "[Jupyter widgets](http://ipywidgets.readthedocs.io/en/latest/examples/Using%20Interact.html)\n",
    "\n",
    "[ipywidgetsを使う(Qiita)](https://qiita.com/driller/items/0730325bf5c1cd689979)\n"
   ]
  },
  {
   "cell_type": "code",
   "execution_count": 31,
   "metadata": {
    "collapsed": true
   },
   "outputs": [],
   "source": [
    "%matplotlib inline\n",
    "import math\n",
    "import numpy as np\n",
    "import matplotlib.pyplot as plt\n",
    "from pylab import rcParams\n",
    "from ipywidgets import interact\n",
    "import ipywidgets as widgets"
   ]
  },
  {
   "cell_type": "code",
   "execution_count": 5,
   "metadata": {
    "collapsed": true
   },
   "outputs": [],
   "source": [
    "def plot_func(tE,omega):\n",
    "    pi = math.pi  # mathモジュールのπを利用\n",
    "    E = tE\n",
    "    C = 0.001\n",
    "    R = 100\n",
    "    t = np.linspace(0, 3, 1000)  # 0から2πまでの範囲を100分割したnumpy配列\n",
    "#     v0 = E*(1-np.exp(-t/(R*C)))\n",
    "    i0 = (E/2)*(np.exp(-2*t) - np.exp(-10*t))\n",
    "    i1 = (2/3)*E*np.exp(-t)*np.sin(omega*t)\n",
    "    hou = (2/3)*E*np.exp(-t)\n",
    "    houm = -(2 / 3) * E * np.exp(-t)\n",
    "#     plt.plot(t, v0)\n",
    "    plt.plot(t, i0)\n",
    "    plt.plot(t, i1,kind='area')\n",
    "    plt.plot(t, hou, linestyle=\"dotted\",color=\"black\")\n",
    "    plt.plot(t, houm, linestyle=\"dotted\", color=\"black\")\n",
    "    plt.grid()\n",
    "    plt.show()"
   ]
  },
  {
   "cell_type": "code",
   "execution_count": 52,
   "metadata": {},
   "outputs": [
    {
     "data": {
      "text/plain": [
       "<matplotlib.figure.Figure at 0x11be67cc0>"
      ]
     },
     "metadata": {},
     "output_type": "display_data"
    }
   ],
   "source": [
    "rcParams['figure.figsize'] = 20,20\n",
    "time = np.linspace(0,20,1000)\n",
    "omega_0 = 1\n",
    "plt.figure()\n",
    "plt.subplots_adjust(wspace=0.5,hspace=0.5)\n",
    "wavelist = list()"
   ]
  },
  {
   "cell_type": "code",
   "execution_count": 58,
   "metadata": {},
   "outputs": [],
   "source": [
    "for v,i in enumerate(range(1,50,2)):\n",
    "    temp = (1/i)*np.sin(i * omega_0 * time)\n",
    "    wave"
   ]
  },
  {
   "cell_type": "code",
   "execution_count": 49,
   "metadata": {},
   "outputs": [],
   "source": [
    "temp = np.zeros(len(wavelist[0]))\n",
    "for i in range(len(wavelist)):\n",
    "    temp = temp + wavelist[i]"
   ]
  },
  {
   "cell_type": "code",
   "execution_count": 55,
   "metadata": {},
   "outputs": [],
   "source": [
    "def square(A, f0, fs, length):\n",
    "    import struct\n",
    "    import numpy as np\n",
    "    data = []\n",
    "    # [-1.0, 1.0]の小数値が入った波を作成\n",
    "    for n in np.arange(length * fs):  # nはサンプルインデックス\n",
    "        s = 0.0\n",
    "        for k in range(1, 10):\n",
    "            s += (A / (2 * k - 1)) * \\\n",
    "                np.sin((2 * k - 1) * 2 * np.pi * f0 * n / fs)\n",
    "        # 振幅が大きい時はクリッピング\n",
    "        if s > 1.0:\n",
    "            s = 1.0\n",
    "        if s < -1.0:\n",
    "            s = -1.0\n",
    "        data.append(s)\n",
    "        return data\n",
    "    # [-32768, 32767]の整数値に変換"
   ]
  },
  {
   "cell_type": "code",
   "execution_count": 57,
   "metadata": {},
   "outputs": [
    {
     "data": {
      "text/plain": [
       "[0.0]"
      ]
     },
     "execution_count": 57,
     "metadata": {},
     "output_type": "execute_result"
    }
   ],
   "source": [
    "square(1,,4800,20)"
   ]
  },
  {
   "cell_type": "code",
   "execution_count": null,
   "metadata": {
    "collapsed": true
   },
   "outputs": [],
   "source": []
  }
 ],
 "metadata": {
  "kernelspec": {
   "display_name": "Python 3",
   "language": "python",
   "name": "python3"
  },
  "language_info": {
   "codemirror_mode": {
    "name": "ipython",
    "version": 3
   },
   "file_extension": ".py",
   "mimetype": "text/x-python",
   "name": "python",
   "nbconvert_exporter": "python",
   "pygments_lexer": "ipython3",
   "version": "3.6.5"
  }
 },
 "nbformat": 4,
 "nbformat_minor": 2
}
