{
 "cells": [
  {
   "cell_type": "code",
   "execution_count": 1,
   "metadata": {},
   "outputs": [],
   "source": [
    "%load_ext Cython\n",
    "from PIL import Image\n",
    "import numpy as np\n",
    "from numba import jit"
   ]
  },
  {
   "cell_type": "code",
   "execution_count": 2,
   "metadata": {
    "collapsed": true
   },
   "outputs": [],
   "source": [
    "def PowerImage(img):\n",
    "#         オリジナル画像の幅と高さを取得\n",
    "    width, height = img.size\n",
    "    \n",
    "#     オリジナル画像と同じサイズのImageオブジェクトを作成する\n",
    "    pimg = Image.new('RGB', (width, height))\n",
    "    \n",
    "#     オリジナル画像と同じサイズの配列、Imageオブジェクトを作成\n",
    "    img_pixels = [[img.getpixel((x,y)) for x in range(width)] for y in range(height)]\n",
    "    \n",
    "#     処理部分\n",
    "    power_pixels = PowerImageCul(img_pixels,width,height)\n",
    "    \n",
    "#         書き込み\n",
    "    pmax = np.array(power_pixels).max()\n",
    "    bias = 255/pmax\n",
    "    for y in range(height):\n",
    "        for x in range(width):\n",
    "            p = power_pixels[y][x] * bias\n",
    "            p = 255-int(p)\n",
    "            pimg.putpixel((x,y), (p,p,p))\n",
    "    return pimg"
   ]
  },
  {
   "cell_type": "code",
   "execution_count": 3,
   "metadata": {
    "collapsed": true
   },
   "outputs": [],
   "source": [
    "%%cython\n",
    "def PowerImageCul(img_pixels,int width, int height):\n",
    "    gray_pixels = [[1 for x in range(width)] for y in range(height)]\n",
    "    power_pixels = [[1 for x in range(width)] for y in range(height)]\n",
    "    \n",
    "#     グレースケール配列を作成\n",
    "    for y in range(height):\n",
    "        for x in range(width):\n",
    "            r,g,b = img_pixels[y][x]\n",
    "            m = ( 0.298912 * r + 0.586611 * g + 0.114478 * b )\n",
    "            m = int(m)\n",
    "            gray_pixels[y][x] = m\n",
    "            \n",
    "#     周りとの差を比較した配列を作成\n",
    "    for y in range(height):\n",
    "        for x in range(width):\n",
    "            target_pixel = gray_pixels[y][x]\n",
    "            power = 0\n",
    "            for yd,xd in zip([0,1,0,-1],[1,0,-1,0]):\n",
    "                    try:\n",
    "                        power += abs(gray_pixels[y+yd][x+xd] - target_pixel)/4\n",
    "                    except:\n",
    "                        pass\n",
    "            power_pixels[y][x] = power\n",
    "    return power_pixels"
   ]
  },
  {
   "cell_type": "code",
   "execution_count": null,
   "metadata": {
    "collapsed": true
   },
   "outputs": [],
   "source": [
    "def EmbededImage(img)\n",
    "#         オリジナル画像の幅と高さを取得\n",
    "    width, height = img.size\n",
    "    \n",
    "#     オリジナル画像と同じサイズのImageオブジェクトを作成する\n",
    "    pimg = Image.new('RGB', (width, height))\n",
    "    \n",
    "#     オリジナル画像と同じサイズの配列、Imageオブジェクトを作成\n",
    "    img_pixels = [[img.getpixel((x,y)) for x in range(width)] for y in range(height)]\n",
    "    \n",
    "#     処理部分\n",
    "    power_pixels = PowerImageCul(img_pixels,width,height)\n",
    "    \n",
    "#         書き込み\n",
    "    pmax = np.array(power_pixels).max()\n",
    "    bias = 255/pmax\n",
    "    for y in range(height):\n",
    "        for x in range(width):\n",
    "            p = power_pixels[y][x] * bias\n",
    "            p = 255-int(p)\n",
    "            pimg.putpixel((x,y), (p,p,p))\n",
    "    return pimg"
   ]
  },
  {
   "cell_type": "code",
   "execution_count": 5,
   "metadata": {
    "scrolled": false
   },
   "outputs": [],
   "source": [
    "# 元となる画像の読み込み\n",
    "img = Image.open('huu.jpg')\n",
    "\n",
    "pimg = PowerImage(img)\n",
    "pimg.show()"
   ]
  },
  {
   "cell_type": "code",
   "execution_count": 11,
   "metadata": {},
   "outputs": [
    {
     "data": {
      "text/plain": [
       "'0x61'"
      ]
     },
     "execution_count": 11,
     "metadata": {},
     "output_type": "execute_result"
    }
   ],
   "source": [
    "hex(ord(\"a\"))"
   ]
  },
  {
   "cell_type": "code",
   "execution_count": 21,
   "metadata": {},
   "outputs": [
    {
     "data": {
      "text/plain": [
       "'a'"
      ]
     },
     "execution_count": 21,
     "metadata": {},
     "output_type": "execute_result"
    }
   ],
   "source": [
    "chr(0x0061)"
   ]
  },
  {
   "cell_type": "code",
   "execution_count": 27,
   "metadata": {},
   "outputs": [
    {
     "data": {
      "text/plain": [
       "'0b11110000'"
      ]
     },
     "execution_count": 27,
     "metadata": {},
     "output_type": "execute_result"
    }
   ],
   "source": [
    "bin(240)"
   ]
  },
  {
   "cell_type": "code",
   "execution_count": 50,
   "metadata": {},
   "outputs": [
    {
     "data": {
      "text/plain": [
       "46"
      ]
     },
     "execution_count": 50,
     "metadata": {},
     "output_type": "execute_result"
    }
   ],
   "source": [
    "0b00101110"
   ]
  },
  {
   "cell_type": "code",
   "execution_count": 48,
   "metadata": {},
   "outputs": [
    {
     "data": {
      "text/plain": [
       "'0b10001001'"
      ]
     },
     "execution_count": 48,
     "metadata": {},
     "output_type": "execute_result"
    }
   ],
   "source": [
    "bin(0b00101110 ^ 0b10100111)"
   ]
  },
  {
   "cell_type": "code",
   "execution_count": 49,
   "metadata": {},
   "outputs": [
    {
     "data": {
      "text/plain": [
       "'0b101110'"
      ]
     },
     "execution_count": 49,
     "metadata": {},
     "output_type": "execute_result"
    }
   ],
   "source": [
    "bin(0b10001001 ^ 0b10100111)"
   ]
  },
  {
   "cell_type": "code",
   "execution_count": 33,
   "metadata": {},
   "outputs": [
    {
     "data": {
      "text/plain": [
       "1000000"
      ]
     },
     "execution_count": 33,
     "metadata": {},
     "output_type": "execute_result"
    }
   ],
   "source": [
    "999999 + 1"
   ]
  }
 ],
 "metadata": {
  "kernelspec": {
   "display_name": "Python 3",
   "language": "python",
   "name": "python3"
  },
  "language_info": {
   "codemirror_mode": {
    "name": "ipython",
    "version": 3
   },
   "file_extension": ".py",
   "mimetype": "text/x-python",
   "name": "python",
   "nbconvert_exporter": "python",
   "pygments_lexer": "ipython3",
   "version": "3.6.5"
  }
 },
 "nbformat": 4,
 "nbformat_minor": 2
}
