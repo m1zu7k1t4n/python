{
 "cells": [
  {
   "cell_type": "code",
   "execution_count": 2,
   "metadata": {
    "collapsed": true
   },
   "outputs": [],
   "source": [
    "from graphviz import Digraph\n",
    "import numpy as np\n",
    "import numpy.random as npr\n"
   ]
  },
  {
   "cell_type": "code",
   "execution_count": 4,
   "metadata": {},
   "outputs": [
    {
     "name": "stdout",
     "output_type": "stream",
     "text": [
      "digraph {\n",
      "\tnode [shape=circle]\n",
      "\t0 [label=0]\n",
      "\t1 [label=1]\n",
      "\t2 [label=2]\n",
      "\t3 [label=3]\n",
      "\t4 [label=4]\n",
      "\t5 [label=5]\n",
      "\t6 [label=6]\n",
      "\t7 [label=7]\n",
      "\t8 [label=8]\n",
      "\t9 [label=9]\n",
      "\t10 [label=10]\n",
      "\t11 [label=11]\n",
      "\t12 [label=12]\n",
      "\t13 [label=13]\n",
      "\t14 [label=14]\n",
      "\t0 -> 1\n",
      "\t0 -> 2\n",
      "\t1 -> 3\n",
      "\t1 -> 4\n",
      "\t2 -> 5\n",
      "\t2 -> 6\n",
      "\t3 -> 7\n",
      "\t3 -> 8\n",
      "\t4 -> 9\n",
      "\t4 -> 10\n",
      "\t5 -> 11\n",
      "\t5 -> 12\n",
      "\t6 -> 13\n",
      "\t6 -> 14\n",
      "}\n"
     ]
    },
    {
     "data": {
      "text/plain": [
       "'binary_tree.png'"
      ]
     },
     "execution_count": 4,
     "metadata": {},
     "output_type": "execute_result"
    }
   ],
   "source": [
    "\n",
    "# formatはpngを指定(他にはPDF, PNG, SVGなどが指定可)\n",
    "G = Digraph(format='png')\n",
    "G.attr('node', shape='circle')\n",
    "\n",
    "N = 15    # ノード数\n",
    "\n",
    "# ノードの追加\n",
    "for i in range(N):\n",
    "    G.node(str(i), str(i))\n",
    "\n",
    "# 辺の追加\n",
    "for i in range(N):\n",
    "    if (i - 1) // 2 >= 0:\n",
    "        G.edge(str((i - 1) // 2), str(i))\n",
    "\n",
    "# print()するとdot形式で出力される\n",
    "print(G)\n",
    "\n",
    "# binary_tree.pngで保存\n",
    "G.render('binary_tree')"
   ]
  },
  {
   "cell_type": "code",
   "execution_count": null,
   "metadata": {
    "collapsed": true
   },
   "outputs": [],
   "source": [
    "def maze_solve_shortest(s_x, s_y, t_x, t_y, Height, Width, maze):\n",
    "\n",
    "    INF = 100000000\n",
    "\n",
    "    distance = [[INF for i in range(Width)] for j in range(Height)]\n",
    "\n",
    "    def bfs():\n",
    "        queue = []\n",
    "\n",
    "        queue.insert(0, (s_x, s_y))\n",
    "\n",
    "        distance[s_y][s_x] = 0\n",
    "        step_map[s_y][s_x] = \"\"\n",
    "\n",
    "        while len(queue):\n",
    "            x, y = queue.pop()\n",
    "\n",
    "            if x == t_x and y == t_y:\n",
    "                break\n",
    "\n",
    "            for i in range(0, 4):\n",
    "                nx, ny = x + [1, 0, -1, 0][i], y + [0, 1, 0, -1][i]\n",
    "\n",
    "                if (0 <= nx and nx < Width and 0 <= ny and ny < Height and\n",
    "                        maze[ny][nx] != '#' and distance[ny][nx] == INF):\n",
    "                    queue.insert(0, (nx, ny))\n",
    "                    distance[ny][nx] = distance[y][x] + 1\n",
    "                    step_map[ny][nx] = step_map[y][x] + [\"R\", \"D\", \"L\", \"U\"][i]\n",
    "\n",
    "        return (step_map[t_y][t_x], distance[t_y][t_x])\n",
    "\n",
    "    return bfs()"
   ]
  }
 ],
 "metadata": {
  "kernelspec": {
   "display_name": "Python 3",
   "language": "python",
   "name": "python3"
  },
  "language_info": {
   "codemirror_mode": {
    "name": "ipython",
    "version": 3
   },
   "file_extension": ".py",
   "mimetype": "text/x-python",
   "name": "python",
   "nbconvert_exporter": "python",
   "pygments_lexer": "ipython3",
   "version": "3.6.1"
  }
 },
 "nbformat": 4,
 "nbformat_minor": 2
}
